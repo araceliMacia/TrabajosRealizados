{
 "cells": [
  {
   "cell_type": "markdown",
   "metadata": {},
   "source": [
    "# Ejercicios de Aprendizaje automatico.\n",
    "\n",
    "### Realizado por Araceli Macía Barrado\n",
    "\n",
    "------\n",
    "## Ejercicio 1.\n",
    "\n",
    "En el “groceries.csv” contiene las transacciones recogidas durante un mes en una tienda de comestibles. En cada una de las filas de este archivo se encuentran los artículos comprados de forma conjunta por los diferentes clientes. Obtener las lista de artículos que tiene un soporte mínimo de 0,15. Obtener también las reglas de asociación que se pueden deducir de este conjunto de datos con un soporte mínimo de 0,05 y confianza de 0,25.\n",
    "\n"
   ]
  },
  {
   "cell_type": "code",
   "execution_count": 1,
   "metadata": {
    "collapsed": false,
    "scrolled": true
   },
   "outputs": [
    {
     "name": "stdout",
     "output_type": "stream",
     "text": [
      "numpy version: 1.10.4\n",
      "matplotlib version: 1.5.1\n",
      "pandas version: 0.18.0\n",
      "scikit-learn version: 0.17.1\n"
     ]
    }
   ],
   "source": [
    "# Importacion de las librerias que van a hacer falta\n",
    "import numpy as np\n",
    "print 'numpy version:', np.__version__\n",
    "\n",
    "# Plotting 2D con matplotlib:\n",
    "import matplotlib\n",
    "print 'matplotlib version:', matplotlib.__version__\n",
    "\n",
    "# Indica que se incrusten los gráficos en el Notebook.\n",
    "%matplotlib inline \n",
    "\n",
    "import pandas as pd\n",
    "print 'pandas version:', pd.__version__\n",
    "\n",
    "import sklearn\n",
    "print 'scikit-learn version:', sklearn.__version__\n",
    "\n",
    "import csv\n",
    "import apriori #El programa apriori lo tenemos en la carpeta donde esta el ejercicio."
   ]
  },
  {
   "cell_type": "code",
   "execution_count": 2,
   "metadata": {
    "collapsed": true,
    "scrolled": true
   },
   "outputs": [],
   "source": [
    "#leemos el fichero.\n",
    "groceries =  []\n",
    "groceries_file = csv.reader(open(\"groceries.csv\", \"rb\"))\n",
    "for row in groceries_file:\n",
    "    groceries.append(row)\n"
   ]
  },
  {
   "cell_type": "code",
   "execution_count": 3,
   "metadata": {
    "collapsed": false,
    "scrolled": true
   },
   "outputs": [
    {
     "data": {
      "text/plain": [
       "9835"
      ]
     },
     "execution_count": 3,
     "metadata": {},
     "output_type": "execute_result"
    }
   ],
   "source": [
    "#Vemos cual es el numero de elementos que se han cargado.\n",
    "len(groceries)"
   ]
  },
  {
   "cell_type": "markdown",
   "metadata": {},
   "source": [
    "### a. Obtener las lista de artículos que tiene un soporte mínimo de 0,15"
   ]
  },
  {
   "cell_type": "code",
   "execution_count": 4,
   "metadata": {
    "collapsed": false,
    "scrolled": true
   },
   "outputs": [
    {
     "name": "stdout",
     "output_type": "stream",
     "text": [
      "{soda}:  sup = 0.174\n",
      "{whole milk}:  sup = 0.256\n",
      "{other vegetables}:  sup = 0.193\n",
      "{rolls/buns}:  sup = 0.184\n"
     ]
    }
   ],
   "source": [
    "F, soporte = apriori.apriori(groceries, min_support=0.15, verbose=True) #soporte minimo es 15%"
   ]
  },
  {
   "cell_type": "markdown",
   "metadata": {},
   "source": [
    "**Es decir, que la lista de articulos que tienen un soporte de 0,15 es, es decir que aparecen en un 15% de los tickets son :soda, whole Milk, other vegetables y rolls/buns.**"
   ]
  },
  {
   "cell_type": "markdown",
   "metadata": {},
   "source": [
    "### b. Obtener también las reglas de asociación que se pueden deducir de este conjunto de datos con un soporte mínimo de 0,05 y confianza de 0,25.\n"
   ]
  },
  {
   "cell_type": "code",
   "execution_count": 5,
   "metadata": {
    "collapsed": false,
    "scrolled": true
   },
   "outputs": [
    {
     "name": "stdout",
     "output_type": "stream",
     "text": [
      "{citrus fruit}:  sup = 0.083\n",
      "{curd}:  sup = 0.053\n",
      "{root vegetables}:  sup = 0.109\n",
      "{shopping bags}:  sup = 0.099\n",
      "{bottled beer}:  sup = 0.081\n",
      "{butter}:  sup = 0.055\n",
      "{newspapers}:  sup = 0.08\n",
      "{napkins}:  sup = 0.052\n",
      "{pip fruit}:  sup = 0.076\n",
      "{domestic eggs}:  sup = 0.063\n",
      "{bottled water}:  sup = 0.111\n",
      "{tropical fruit}:  sup = 0.105\n",
      "{soda}:  sup = 0.174\n",
      "{whole milk}:  sup = 0.256\n",
      "{other vegetables}:  sup = 0.193\n",
      "{canned beer}:  sup = 0.078\n",
      "{frankfurter}:  sup = 0.059\n",
      "{sausage}:  sup = 0.094\n",
      "{yogurt}:  sup = 0.14\n",
      "{pastry}:  sup = 0.089\n",
      "{margarine}:  sup = 0.059\n",
      "{coffee}:  sup = 0.058\n",
      "{brown bread}:  sup = 0.065\n",
      "{fruit/vegetable juice}:  sup = 0.072\n",
      "{whipped/sour cream}:  sup = 0.072\n",
      "{pork}:  sup = 0.058\n",
      "{rolls/buns}:  sup = 0.184\n",
      "{beef}:  sup = 0.052\n",
      "{whole milk, yogurt}:  sup = 0.056\n",
      "{whole milk, rolls/buns}:  sup = 0.057\n",
      "{whole milk, other vegetables}:  sup = 0.075\n"
     ]
    }
   ],
   "source": [
    "F2, soporte2 = apriori.apriori(groceries, min_support=0.05, verbose=True) #soporte minimo es 5%\n",
    "#Con esta instruccion obtenemos la lista de articulos que tienen un soporte de 0.05"
   ]
  },
  {
   "cell_type": "markdown",
   "metadata": {},
   "source": [
    "Ahora hemos obtenido la lista de articulos que se dan mas 5% de las veces. Hay muy pocas combinaciones de articulos.\n",
    "La leche es el articulo que mas veces se compra, y por ello vemos que es el unico que se ha encontrado combinado con otros con un soporte de 5%. Si bajamos el soporte, aparecen muchos mas articulos y combinaciones."
   ]
  },
  {
   "cell_type": "code",
   "execution_count": 6,
   "metadata": {
    "collapsed": false,
    "scrolled": true
   },
   "outputs": [
    {
     "name": "stdout",
     "output_type": "stream",
     "text": [
      "{yogurt} ---> {whole milk}:  conf = 0.402, sup = 0.056\n",
      "{rolls/buns} ---> {whole milk}:  conf = 0.308, sup = 0.057\n",
      "{other vegetables} ---> {whole milk}:  conf = 0.387, sup = 0.075\n",
      "{whole milk} ---> {other vegetables}:  conf = 0.293, sup = 0.075\n"
     ]
    }
   ],
   "source": [
    "H1 = apriori.generate_rules(F2, soporte2, min_confidence=0.25, verbose=True)\n"
   ]
  },
  {
   "cell_type": "markdown",
   "metadata": {},
   "source": [
    "Segun el resultado vemos que la regla de asociacion mas alta, es que cuando se compra yogur el 40% de las veces tambien se compra leche. Teniendo en cuanto que la compra de leche y yogur se da en el 5% de los tickets. \n",
    "\n",
    "Y la que menos confianza tiene es la que dice que cuando se compra leche tambien se compran otros verduras con un 29%, sabiendo que ambos articulos aparecen juntos el 7% de las veces.\n",
    "\n",
    "Estos datos son llamativos\n",
    "\n",
    "{yogurt} ---> {whole milk}:  conf = 0.402, sup = 0.056\n",
    "\n",
    "\n",
    "{other vegetables} ---> {whole milk}:  conf = 0.387, sup = 0.075\n",
    "\n",
    "se compra mas veces verdudas y leche que yogures y leche, pero como el numero de veces que se compra yogures es inferior al numero de veces que se compra verduras, resulta que existe mas confianza que comprando yogures se compré tambien leche.. supongo que dependiendo de lo que cuesta cada cosa nos interesa mas tener una cosa en cuenta que la otra.\n"
   ]
  },
  {
   "cell_type": "markdown",
   "metadata": {
    "collapsed": true
   },
   "source": [
    "------------------\n",
    "\n",
    "## Ejercicio 2. Implementación de una regresión “stepwise” con eliminación hacia atrás. (40 puntos)\n",
    "\n",
    "\n",
    "Utilizando como referencia el código del algoritmo “stepwise” con selección hacia adelante (Fordward Stepwise Regression) que se encuentra en el archivo “CIF005_02_06_Stepwise.ipynb” realizar una implementación del del algoritmo con eliminación hacia atrás (Backward Stepwise Regression). En este caso la selección de las variables se realiza empezando con un modelo que utiliza todas la variables disponibles para ir eliminando en cada paso la produce el modelo menos significativo."
   ]
  },
  {
   "cell_type": "code",
   "execution_count": 7,
   "metadata": {
    "collapsed": false,
    "scrolled": true
   },
   "outputs": [
    {
     "name": "stdout",
     "output_type": "stream",
     "text": [
      "Using matplotlib backend: MacOSX\n",
      "Populating the interactive namespace from numpy and matplotlib\n"
     ]
    }
   ],
   "source": [
    "%pylab\n",
    "%matplotlib inline\n",
    "import pandas as pd\n",
    "\n",
    "\n",
    "from sklearn.linear_model import LinearRegression\n",
    "from sklearn.cross_validation import train_test_split\n",
    "\n",
    "# Separación de la variable objetivo y las explicativas\n",
    "wine = pd.read_csv('winequality-white.csv', sep = ';')\n",
    "\n",
    "target = 'quality'\n",
    "features = list(wine.columns)\n",
    "features.remove('quality')\n",
    "\n",
    "x = wine[features]\n",
    "y = wine[target]"
   ]
  },
  {
   "cell_type": "code",
   "execution_count": 8,
   "metadata": {
    "collapsed": false,
    "scrolled": true
   },
   "outputs": [
    {
     "name": "stdout",
     "output_type": "stream",
     "text": [
      "Inicio - tratando  [0, 1, 2, 3, 4, 5, 6, 7, 8, 9, 10] - error : 0.764155990106\n",
      "Paso  0 - tratando  [0, 1, 3, 4, 5, 6, 7, 8, 9, 10] - error : 0.763315735334\n",
      "Paso  1 - tratando  [0, 1, 3, 5, 6, 7, 8, 9, 10] - error : 0.763022133186\n"
     ]
    },
    {
     "data": {
      "text/plain": [
       "(Index([u'fixed acidity', u'volatile acidity', u'residual sugar',\n",
       "        u'free sulfur dioxide', u'total sulfur dioxide', u'density', u'pH',\n",
       "        u'sulphates', u'alcohol'],\n",
       "       dtype='object'), 0.76302213318623657)"
      ]
     },
     "execution_count": 8,
     "metadata": {},
     "output_type": "execute_result"
    }
   ],
   "source": [
    "def Backward_regression(x, y): #version buena.\n",
    "    \n",
    "    x_train, x_test, y_train, y_test = train_test_split(x, y)\n",
    "\n",
    "    # Modelo para realizar los ajustes\n",
    "    model = LinearRegression()\n",
    "\n",
    "    # Variable para almecena los índices de la lista de atributos usados\n",
    "    feature_error = []\n",
    "    feature_names = []\n",
    "    orden_categorias = [] \n",
    "    \n",
    "    #Lo primero que hacemos es ejecutar el modelo con todas las variables que va a ser nuestro punto de partida.    \n",
    "    feature_list = list(x.columns) # los nombres de las variables.\n",
    "    feature_order = [val for val in range(len(feature_list))]\n",
    "    use_train = x_train[x_train.columns[feature_order]]\n",
    "    use_test = x_test[x_train.columns[feature_order]]\n",
    "    model.fit(use_train, y_train)\n",
    "    rmsError = np.linalg.norm((y_test - model.predict(use_test)), 2)/sqrt(len(y_test))\n",
    "    feature_error= rmsError    #almaceno el error para compararlo.\n",
    "    #print \".....\"\n",
    "    #print \"Entro con variables :\", feature_order, \" y con error : \", feature_error\n",
    "    \n",
    "    \n",
    "    idx_try=[val for val in range(len(feature_list))] #inicializo con todas las variables. \n",
    "    print \"Inicio - tratando \", idx_try, \"- error :\", feature_error\n",
    "    for i in range(len(feature_list)):    \n",
    "      \n",
    "        #print \"-----------\"\n",
    "        #print \"Bucle principal i- \", i,\"-->\" ,idx_try\n",
    "        \n",
    "        orden_categorias=[] #vector para guardar las categorias que estamos probando\n",
    "        iter_error = []\n",
    "        #bucle para ir quitando cada vez una variable y almacenar el resultado dle modelo sin es variable.\n",
    "        for i_try in idx_try:\n",
    "            useRow=idx_try[:]\n",
    "            useRow.remove(i_try)  #cada vez quito una variable.\n",
    "            use_train = x_train[x_train.columns[useRow]]\n",
    "            use_test = x_test[x_train.columns[useRow]]\n",
    "            model.fit(use_train, y_train)\n",
    "            rmsError = np.linalg.norm((y_test - model.predict(use_test)), 2)/sqrt(len(y_test))\n",
    "            iter_error.append(rmsError)\n",
    "            orden_categorias.append(i_try)\n",
    "            #print i_try, \"-useRow\", useRow , \"iter_error :\", rmsError\n",
    "            \n",
    "        \n",
    "        #Guardamos la posicion de la combinacion con el menor error, pero en iter_error\n",
    "        pos_best = np.argmin(iter_error)   \n",
    "        \n",
    "        #print \">> minimo error posicion del vector Error\" , pos_best \n",
    "        #print \"error ahora es \", iter_error[pos_best]\n",
    "        #print \"error anterior es\", feature_error\n",
    "        #print \"orden_categorias es\" , orden_categorias[pos_best]\n",
    "        \n",
    "        #Si el error de ahora es menor que el error anterior , me quedo con ese valor y continuo\n",
    "        if (iter_error[pos_best] < feature_error):\n",
    "            idx_try.remove(orden_categorias[pos_best])\n",
    "            feature_error=iter_error[pos_best] #guardo el error actual, que es el que tngo que conseguir bajar.\n",
    "            feature_names= x_train.columns[idx_try]            \n",
    "            #print \"idx_try\", idx_try, '--', len(feature_order)\n",
    "            #print \"error ahora menor, me quedo con idx_try modificado.\"\n",
    "            print \"Paso \", i , \"- tratando \", idx_try, \"- error :\", feature_error\n",
    "       \n",
    "        else:\n",
    "            #print \"* Error ahora mayor, me quedo con idx_try\", idx_try\n",
    "            feature_names=x_train.columns[idx_try]\n",
    "            return feature_names,feature_error\n",
    "        \n",
    "        #si ya solo me quedaba una categoria, salimos porque ya la habremos analizado en el paso anterior.\n",
    "        if len(idx_try) == 1:\n",
    "            return feature_names,feature_error\n",
    "      \n",
    "    \n",
    "    \n",
    "Backward_regression(x, y)  \n"
   ]
  },
  {
   "cell_type": "markdown",
   "metadata": {
    "collapsed": true
   },
   "source": [
    "----------\n",
    "\n",
    "## Ejercicio 3. Estimación de la supervivencia de los pasajeros del Titanic\n",
    "\n",
    "\n",
    "Utilizando los datos del archivo “titanic.csv”, que contienen información del pasaje del Titanic, para la creación de un modelo que pueda predecir si un pasajero sobrevive al hundimiento del barco en el momento de embarque. Para esto se han de seleccionar la variables con mayor capacidad de predicción.\n",
    "Para la creación del modelo no se pueden utilizar las variables “boat” ni “body” ya que estas contienen información posterior al momento del embarque.\n",
    "En el conjunto de datos existes valores NaN en las columnas “age” y “fare”, para eliminar las filas con estos valores se puede utilizar el siguiente comando:\n",
    "\n",
    "  mask = titanic[['age', 'fare']].applymap(lambda x: math.isnan(x))\n",
    "  \n",
    "  \n",
    "  titanic = titanic[-mask.any(axis = 1)]"
   ]
  },
  {
   "cell_type": "markdown",
   "metadata": {},
   "source": [
    "\n",
    "### 1. Lectura del fichero."
   ]
  },
  {
   "cell_type": "code",
   "execution_count": 9,
   "metadata": {
    "collapsed": false,
    "scrolled": true
   },
   "outputs": [
    {
     "data": {
      "text/html": [
       "<div>\n",
       "<table border=\"1\" class=\"dataframe\">\n",
       "  <thead>\n",
       "    <tr style=\"text-align: right;\">\n",
       "      <th></th>\n",
       "      <th>pclass</th>\n",
       "      <th>survived</th>\n",
       "      <th>name</th>\n",
       "      <th>sex</th>\n",
       "      <th>age</th>\n",
       "      <th>sibsp</th>\n",
       "      <th>parch</th>\n",
       "      <th>ticket</th>\n",
       "      <th>fare</th>\n",
       "      <th>cabin</th>\n",
       "      <th>embarked</th>\n",
       "      <th>boat</th>\n",
       "      <th>body</th>\n",
       "      <th>home.dest</th>\n",
       "    </tr>\n",
       "  </thead>\n",
       "  <tbody>\n",
       "    <tr>\n",
       "      <th>0</th>\n",
       "      <td>1</td>\n",
       "      <td>1</td>\n",
       "      <td>Allen, Miss. Elisabeth Walton</td>\n",
       "      <td>female</td>\n",
       "      <td>29.00</td>\n",
       "      <td>0</td>\n",
       "      <td>0</td>\n",
       "      <td>24160</td>\n",
       "      <td>211.3375</td>\n",
       "      <td>B5</td>\n",
       "      <td>S</td>\n",
       "      <td>2</td>\n",
       "      <td>NaN</td>\n",
       "      <td>St Louis, MO</td>\n",
       "    </tr>\n",
       "    <tr>\n",
       "      <th>1</th>\n",
       "      <td>1</td>\n",
       "      <td>1</td>\n",
       "      <td>Allison, Master. Hudson Trevor</td>\n",
       "      <td>male</td>\n",
       "      <td>0.92</td>\n",
       "      <td>1</td>\n",
       "      <td>2</td>\n",
       "      <td>113781</td>\n",
       "      <td>151.5500</td>\n",
       "      <td>C22 C26</td>\n",
       "      <td>S</td>\n",
       "      <td>11</td>\n",
       "      <td>NaN</td>\n",
       "      <td>Montreal, PQ / Chesterville, ON</td>\n",
       "    </tr>\n",
       "    <tr>\n",
       "      <th>2</th>\n",
       "      <td>1</td>\n",
       "      <td>0</td>\n",
       "      <td>Allison, Miss. Helen Loraine</td>\n",
       "      <td>female</td>\n",
       "      <td>2.00</td>\n",
       "      <td>1</td>\n",
       "      <td>2</td>\n",
       "      <td>113781</td>\n",
       "      <td>151.5500</td>\n",
       "      <td>C22 C26</td>\n",
       "      <td>S</td>\n",
       "      <td>NaN</td>\n",
       "      <td>NaN</td>\n",
       "      <td>Montreal, PQ / Chesterville, ON</td>\n",
       "    </tr>\n",
       "    <tr>\n",
       "      <th>3</th>\n",
       "      <td>1</td>\n",
       "      <td>0</td>\n",
       "      <td>Allison, Mr. Hudson Joshua Creighton</td>\n",
       "      <td>male</td>\n",
       "      <td>30.00</td>\n",
       "      <td>1</td>\n",
       "      <td>2</td>\n",
       "      <td>113781</td>\n",
       "      <td>151.5500</td>\n",
       "      <td>C22 C26</td>\n",
       "      <td>S</td>\n",
       "      <td>NaN</td>\n",
       "      <td>135.0</td>\n",
       "      <td>Montreal, PQ / Chesterville, ON</td>\n",
       "    </tr>\n",
       "    <tr>\n",
       "      <th>4</th>\n",
       "      <td>1</td>\n",
       "      <td>0</td>\n",
       "      <td>Allison, Mrs. Hudson J C (Bessie Waldo Daniels)</td>\n",
       "      <td>female</td>\n",
       "      <td>25.00</td>\n",
       "      <td>1</td>\n",
       "      <td>2</td>\n",
       "      <td>113781</td>\n",
       "      <td>151.5500</td>\n",
       "      <td>C22 C26</td>\n",
       "      <td>S</td>\n",
       "      <td>NaN</td>\n",
       "      <td>NaN</td>\n",
       "      <td>Montreal, PQ / Chesterville, ON</td>\n",
       "    </tr>\n",
       "  </tbody>\n",
       "</table>\n",
       "</div>"
      ],
      "text/plain": [
       "   pclass  survived                                             name     sex  \\\n",
       "0       1         1                    Allen, Miss. Elisabeth Walton  female   \n",
       "1       1         1                   Allison, Master. Hudson Trevor    male   \n",
       "2       1         0                     Allison, Miss. Helen Loraine  female   \n",
       "3       1         0             Allison, Mr. Hudson Joshua Creighton    male   \n",
       "4       1         0  Allison, Mrs. Hudson J C (Bessie Waldo Daniels)  female   \n",
       "\n",
       "     age  sibsp  parch  ticket      fare    cabin embarked boat   body  \\\n",
       "0  29.00      0      0   24160  211.3375       B5        S    2    NaN   \n",
       "1   0.92      1      2  113781  151.5500  C22 C26        S   11    NaN   \n",
       "2   2.00      1      2  113781  151.5500  C22 C26        S  NaN    NaN   \n",
       "3  30.00      1      2  113781  151.5500  C22 C26        S  NaN  135.0   \n",
       "4  25.00      1      2  113781  151.5500  C22 C26        S  NaN    NaN   \n",
       "\n",
       "                         home.dest  \n",
       "0                     St Louis, MO  \n",
       "1  Montreal, PQ / Chesterville, ON  \n",
       "2  Montreal, PQ / Chesterville, ON  \n",
       "3  Montreal, PQ / Chesterville, ON  \n",
       "4  Montreal, PQ / Chesterville, ON  "
      ]
     },
     "execution_count": 9,
     "metadata": {},
     "output_type": "execute_result"
    }
   ],
   "source": [
    "import pandas as pd\n",
    "titanic = pd.read_csv('titanic.csv', sep = ',')\n",
    "titanic.head(n = 5)\n"
   ]
  },
  {
   "cell_type": "markdown",
   "metadata": {},
   "source": [
    "### 2. Seleccion de variables.\n",
    "\n",
    "Las caracteristicas del fichero son estas:\n",
    "\n",
    "pclass\t: Clase en que viajaban. Es categorica.\n",
    "\n",
    "survived : Variable respuesta.\n",
    "\n",
    "**name** : Nombre. Identificador\t\n",
    "\n",
    "sex: Sexo del viajero. Categorica.\n",
    "\n",
    "age\t: Edad. Variable continua,\n",
    "\n",
    "sibsp: sibsp numero de hermanos o esposos del viajero. Variable discreta.\n",
    "\n",
    "parch: Number of padres o hijos del viajero. Variable discreta.\n",
    "\n",
    "**ticket**: Numero del ticket. es un Identificador.\n",
    "\n",
    "fare: precio del billete. Variable continua? \n",
    "\n",
    "**cabin** : Numero de cabina en que viajaban. Variable categorica.\n",
    "\n",
    "**embarked**: Puerto de embarque. Identificador.\n",
    "\n",
    "**boat** : Variable a eliminar ,no se sabia de antemano\t\n",
    "\n",
    "**body** : Variable a eliminar ,no se sabia de antemano\t\n",
    "\n",
    "**home.dest** : Puerto destino.\n",
    "\n",
    "\n",
    "- Lo primero que vamos a realizar es eliminar del estudio las variables que son identificadores y que por tanto no aportan al modelo : name, ticket, embarked, cabin,  boat, body y home.dest\n",
    "\n",
    "No creo que las variables de embarked','home.dest', aporten al modelo..\n",
    "\n",
    "Trabajaremos con el resto, aunque ya veo que hay variables que tienen la misma informacion, ya que estan relacionadas, como pclass y fare. Pero las voy a dejar.\n",
    "\n"
   ]
  },
  {
   "cell_type": "code",
   "execution_count": 10,
   "metadata": {
    "collapsed": false,
    "scrolled": true
   },
   "outputs": [
    {
     "name": "stdout",
     "output_type": "stream",
     "text": [
      "(1309, 14)\n",
      "(1045, 14)\n"
     ]
    }
   ],
   "source": [
    "\n",
    "#eliminacion  nulos.\n",
    "#Eliminacion de nulos.\n",
    "print titanic.shape\n",
    "mask            = titanic[['age','fare']].applymap(lambda x: math.isnan(x))\n",
    "titanic_not_null = titanic[-mask.any(axis=1)] #eliminamos los nulos de edad.\n",
    "print titanic_not_null.shape  #aqui se ve el dataset resultante de la eliminacion de nulos.\n",
    "\n",
    "\n",
    "\n"
   ]
  },
  {
   "cell_type": "code",
   "execution_count": 11,
   "metadata": {
    "collapsed": false,
    "scrolled": true
   },
   "outputs": [
    {
     "data": {
      "text/plain": [
       "pclass          3\n",
       "survived        2\n",
       "name         1043\n",
       "sex             2\n",
       "age            97\n",
       "sibsp           7\n",
       "parch           7\n",
       "ticket        731\n",
       "fare          256\n",
       "cabin         174\n",
       "embarked        3\n",
       "boat           26\n",
       "body          119\n",
       "home.dest     348\n",
       "dtype: int64"
      ]
     },
     "execution_count": 11,
     "metadata": {},
     "output_type": "execute_result"
    }
   ],
   "source": [
    "titanic_not_null.T.apply(lambda x: x.nunique(), axis=1)\n"
   ]
  },
  {
   "cell_type": "markdown",
   "metadata": {},
   "source": [
    "Viendo los posibles valores de las variables, confirmamos que las variables de name, ticket, home_dest,cabin tiene muchos valores, son identificadores y las quitamos de modelo.\n",
    "La variable embarked, no creo que aporte  al variable, pero la voy a dejar a ver que dicen los analisis."
   ]
  },
  {
   "cell_type": "code",
   "execution_count": 12,
   "metadata": {
    "collapsed": true
   },
   "outputs": [],
   "source": [
    "#Separo las variables que vamos a incluir en el estudio.\n",
    "var_categoricas = ['pclass','sibsp','parch','sex','embarked' ]\n",
    "var_numericas   = ['age','fare']\n",
    "var_target      = titanic_not_null['survived'] == 1"
   ]
  },
  {
   "cell_type": "markdown",
   "metadata": {},
   "source": [
    "### 2.1 Analisis de las variables discretas.\n",
    "\n",
    "Vamos a analizar los niveles que tienen cada una de las variables discretas.\n",
    "\n"
   ]
  },
  {
   "cell_type": "code",
   "execution_count": 13,
   "metadata": {
    "collapsed": false,
    "scrolled": false
   },
   "outputs": [
    {
     "name": "stdout",
     "output_type": "stream",
     "text": [
      "Tabla de frecuencias para: pclass\n",
      "pclass      1    2    3\n",
      "survived               \n",
      "0         103  146  369\n",
      "1         181  115  131\n",
      "\n",
      "Tabla de frecuencias para: sibsp\n",
      "sibsp       0    1   2   3   4  5  8\n",
      "survived                            \n",
      "0         429  133  20  10  19  6  1\n",
      "1         255  147  16   6   3  0  0\n",
      "\n",
      "Tabla de frecuencias para: parch\n",
      "parch       0   1   2  3  4  5  6\n",
      "survived                         \n",
      "0         497  65  42  3  4  5  2\n",
      "1         270  95  55  5  1  1  0\n",
      "\n",
      "Tabla de frecuencias para: sex\n",
      "sex       female  male\n",
      "survived              \n",
      "0             96   522\n",
      "1            292   135\n",
      "\n",
      "Tabla de frecuencias para: embarked\n",
      "embarked    C   Q    S\n",
      "survived              \n",
      "0          80  37  501\n",
      "1         132  13  280\n",
      "\n"
     ]
    }
   ],
   "source": [
    "def tabla_frecuencias():\n",
    "    for var in var_categoricas:\n",
    "        print \"Tabla de frecuencias para:\", var\n",
    "        print pd.crosstab(titanic_not_null['survived'], titanic_not_null[var])\n",
    "        print\n",
    "\n",
    "tabla_frecuencias()"
   ]
  },
  {
   "cell_type": "markdown",
   "metadata": {},
   "source": [
    "> Segun lo que vemos en los resultados, las niveles de  sibsps, parch y embarked se pueden agrupar, puesto que hay niveles que tienen pocos valores. Para ello vamos a estudiar el WOE de cada nivel, el valor que indica la capacidad predictiva de cada una de los niveles. "
   ]
  },
  {
   "cell_type": "code",
   "execution_count": 14,
   "metadata": {
    "collapsed": false,
    "scrolled": true
   },
   "outputs": [],
   "source": [
    "def get_WoE(data, var, target):\n",
    "    crosstab = pd.crosstab(data[target], data[var])\n",
    "    \n",
    "    print \"Obteniendo el Woe para la variable\", var, \":\"\n",
    "    \n",
    "    for col in crosstab.columns:\n",
    "        if crosstab[col][1] == 0:\n",
    "            print \"  El WoE para\", col, \"[\", sum(crosstab[col]), \"] es infinito\"\n",
    "        else:\n",
    "            print \"  El WoE para\", col, \"[\", sum(crosstab[col]), \"] es\", np.log(float(crosstab[col][0]) / float(crosstab[col][1]))\n",
    "            "
   ]
  },
  {
   "cell_type": "code",
   "execution_count": 15,
   "metadata": {
    "collapsed": false,
    "scrolled": true
   },
   "outputs": [
    {
     "name": "stdout",
     "output_type": "stream",
     "text": [
      "Obteniendo el Woe para la variable sibsp :\n",
      "  El WoE para 0 [ 684 ] es 0.52019337377\n",
      "  El WoE para 1 [ 280 ] es -0.100083458557\n",
      "  El WoE para 2 [ 36 ] es 0.223143551314\n",
      "  El WoE para 3 [ 16 ] es 0.510825623766\n",
      "  El WoE para 4 [ 22 ] es 1.8458266905\n",
      "  El WoE para 5 [ 6 ] es infinito\n",
      "  El WoE para 8 [ 1 ] es infinito\n"
     ]
    }
   ],
   "source": [
    "# Empezamos por sibsp\n",
    "get_WoE(titanic_not_null, 'sibsp', 'survived') \n"
   ]
  },
  {
   "cell_type": "markdown",
   "metadata": {},
   "source": [
    "Segun los resultados, voy a unir los de los niveles 5 y 8 con valor infinito, con el 1. Son los 3 que tienen WOE menor.  Y tambien voy a unir el 0 y el 3 que tienen valores similares.\n"
   ]
  },
  {
   "cell_type": "code",
   "execution_count": 16,
   "metadata": {
    "collapsed": false,
    "scrolled": true
   },
   "outputs": [
    {
     "name": "stderr",
     "output_type": "stream",
     "text": [
      "/Users/aramaciabarrado/anaconda/lib/python2.7/site-packages/pandas/core/indexing.py:284: SettingWithCopyWarning: \n",
      "A value is trying to be set on a copy of a slice from a DataFrame.\n",
      "Try using .loc[row_indexer,col_indexer] = value instead\n",
      "\n",
      "See the caveats in the documentation: http://pandas.pydata.org/pandas-docs/stable/indexing.html#indexing-view-versus-copy\n",
      "  self.obj[key] = _infer_fill_value(value)\n",
      "/Users/aramaciabarrado/anaconda/lib/python2.7/site-packages/pandas/core/indexing.py:461: SettingWithCopyWarning: \n",
      "A value is trying to be set on a copy of a slice from a DataFrame.\n",
      "Try using .loc[row_indexer,col_indexer] = value instead\n",
      "\n",
      "See the caveats in the documentation: http://pandas.pydata.org/pandas-docs/stable/indexing.html#indexing-view-versus-copy\n",
      "  self.obj[item] = s\n"
     ]
    },
    {
     "name": "stdout",
     "output_type": "stream",
     "text": [
      "--- fin ---- \n",
      "Obteniendo el Woe para la variable sibsp_n :\n",
      "  El WoE para 2 [ 36 ] es 0.223143551314\n",
      "  El WoE para 4 [ 22 ] es 1.8458266905\n",
      "  El WoE para n0 [ 287 ] es -0.0487901641694\n",
      "  El WoE para n1 [ 700 ] es 0.519979005752\n"
     ]
    }
   ],
   "source": [
    "titanic_not_null.loc[:, 'sibsp_n'] = None\n",
    "\n",
    "for row in titanic_not_null.index:\n",
    "    if titanic_not_null.loc[row, 'sibsp'] in (1, 5, 8):\n",
    "        titanic_not_null.loc[row, 'sibsp_n'] = 'n0'\n",
    "    elif titanic_not_null.loc[row, 'sibsp'] in (0, 3):\n",
    "        titanic_not_null.loc[row, 'sibsp_n'] = 'n1'\n",
    "    else:\n",
    "        val = titanic_not_null.loc[row, 'sibsp']\n",
    "        titanic_not_null.loc[row, 'sibsp_n'] = val\n",
    "\n",
    "print \"--- fin ---- \"\n",
    "get_WoE(titanic_not_null, 'sibsp_n', 'survived') \n",
    "var_categoricas = ['pclass','sibsp_n','parch','sex', 'embarked'] #modifico mi lista de variables de estudio.\n",
    "\n"
   ]
  },
  {
   "cell_type": "markdown",
   "metadata": {},
   "source": [
    "los niveles 2 y 4 tienen pocos niveles..  vamos a agrupar en dos niveles, uno con valores positivos y otro con valores negativos"
   ]
  },
  {
   "cell_type": "code",
   "execution_count": 17,
   "metadata": {
    "collapsed": false,
    "scrolled": true
   },
   "outputs": [
    {
     "name": "stdout",
     "output_type": "stream",
     "text": [
      "Obteniendo el Woe para la variable sibsp_n2 :\n",
      "  El WoE para n0 [ 287 ] es -0.0487901641694\n",
      "  El WoE para n1 [ 758 ] es 0.534821129322\n"
     ]
    }
   ],
   "source": [
    "titanic_not_null.loc[:, 'sibsp_n2'] = None\n",
    "titanic_not_null.loc[:, 'sibsp_n2'] = titanic_not_null['sibsp_n'].map(lambda x: 'n0' if x == 'n0' else 'n1')\n",
    "\n",
    "get_WoE(titanic_not_null, 'sibsp_n2', 'survived') \n",
    "var_categoricas = ['pclass','sibsp_n2','parch','sex', 'embarked'] #modifico mi lista de variables de estudio."
   ]
  },
  {
   "cell_type": "code",
   "execution_count": 18,
   "metadata": {
    "collapsed": false,
    "scrolled": true
   },
   "outputs": [
    {
     "name": "stdout",
     "output_type": "stream",
     "text": [
      "Obteniendo el Woe para la variable parch :\n",
      "  El WoE para 0 [ 767 ] es 0.610168067098\n",
      "  El WoE para 1 [ 160 ] es -0.379489621705\n",
      "  El WoE para 2 [ 97 ] es -0.269663566949\n",
      "  El WoE para 3 [ 8 ] es -0.510825623766\n",
      "  El WoE para 4 [ 5 ] es 1.38629436112\n",
      "  El WoE para 5 [ 6 ] es 1.60943791243\n",
      "  El WoE para 6 [ 2 ] es infinito\n"
     ]
    }
   ],
   "source": [
    "# seguimos  por parch\n",
    "get_WoE(titanic_not_null, 'parch', 'survived') "
   ]
  },
  {
   "cell_type": "markdown",
   "metadata": {},
   "source": [
    "Ahora voy a unir el 1,2,3 y 6 con valores muy pequeños. Y los valores 4 y 5 tambien los uno.\n",
    " "
   ]
  },
  {
   "cell_type": "code",
   "execution_count": 19,
   "metadata": {
    "collapsed": false,
    "scrolled": true
   },
   "outputs": [
    {
     "name": "stdout",
     "output_type": "stream",
     "text": [
      "--- fin ---- \n",
      "Obteniendo el Woe para la variable parch_n :\n",
      "  El WoE para 0 [ 767 ] es 0.610168067098\n",
      "  El WoE para n0 [ 267 ] es -0.324926245624\n",
      "  El WoE para n1 [ 11 ] es 1.50407739678\n"
     ]
    }
   ],
   "source": [
    "titanic_not_null.loc[:, 'parch_n'] = None\n",
    "\n",
    "for row in titanic_not_null.index:\n",
    "    if titanic_not_null.loc[row, 'parch'] in (1, 2, 3,6):\n",
    "        titanic_not_null.loc[row, 'parch_n'] = 'n0'\n",
    "    elif titanic_not_null.loc[row, 'parch'] in (4,5):\n",
    "        titanic_not_null.loc[row, 'parch_n'] = 'n1'\n",
    "    else:\n",
    "        val = titanic_not_null.loc[row, 'parch']\n",
    "        titanic_not_null.loc[row, 'parch_n'] = val\n",
    "print \"--- fin ---- \"\n",
    "get_WoE(titanic_not_null, 'parch_n', 'survived') \n",
    "var_categoricas = ['pclass','sibsp_n2','parch_n','sex','embarked'] #modifico mi lista de variables de estudio.\n"
   ]
  },
  {
   "cell_type": "code",
   "execution_count": 20,
   "metadata": {
    "collapsed": false,
    "scrolled": true
   },
   "outputs": [
    {
     "name": "stdout",
     "output_type": "stream",
     "text": [
      "Obteniendo el Woe para la variable parch_n2 :\n",
      "  El WoE para n0 [ 267 ] es -0.324926245624\n",
      "  El WoE para n1 [ 778 ] es 0.620734602991\n"
     ]
    }
   ],
   "source": [
    "#Ahora agrupo los niveles 0 y n1, ya que n1 tiene muy pocos registros. Los agrupo con el criterio de que ambos son\n",
    "#positivos.\n",
    "titanic_not_null.loc[:, 'parch_n2'] = None\n",
    "titanic_not_null.loc[:, 'parch_n2'] = titanic_not_null['parch_n'].map(lambda x: 'n0' if x == 'n0' else 'n1')\n",
    "\n",
    "get_WoE(titanic_not_null, 'parch_n2', 'survived') \n",
    "var_categoricas = ['pclass','sibsp_n2','parch_n2','sex', 'embarked'] #modifico mi lista de variables de estudio."
   ]
  },
  {
   "cell_type": "code",
   "execution_count": 21,
   "metadata": {
    "collapsed": false
   },
   "outputs": [
    {
     "name": "stdout",
     "output_type": "stream",
     "text": [
      "Obteniendo el Woe para la variable embarked :\n",
      "  El WoE para C [ 212 ] es -0.500775287912\n",
      "  El WoE para Q [ 50 ] es 1.04596855518\n",
      "  El WoE para S [ 781 ] es 0.581816497916\n"
     ]
    }
   ],
   "source": [
    "# la variable embarKed tambien la voy a discretizar\n",
    "get_WoE(titanic_not_null, 'embarked', 'survived') \n"
   ]
  },
  {
   "cell_type": "code",
   "execution_count": 22,
   "metadata": {
    "collapsed": false
   },
   "outputs": [
    {
     "name": "stdout",
     "output_type": "stream",
     "text": [
      "Obteniendo el Woe para la variable embarked_n :\n",
      "  El WoE para C [ 212 ] es -0.500775287912\n",
      "  El WoE para n1 [ 833 ] es 0.600883203822\n"
     ]
    }
   ],
   "source": [
    "#Ahora agrupo los niveles Q y S, ya que n1 tiene muy pocos registros. Los agrupo con el criterio de que ambos son\n",
    "#positivos.\n",
    "titanic_not_null.loc[:, 'embarked_n'] = None\n",
    "titanic_not_null.loc[:, 'embarked_n'] = titanic_not_null['embarked'].map(lambda x: 'C' if x == 'C' else 'n1')\n",
    "\n",
    "get_WoE(titanic_not_null, 'embarked_n', 'survived') \n",
    "var_categoricas = ['pclass','sibsp_n2','parch_n2','sex', 'embarked_n']"
   ]
  },
  {
   "cell_type": "code",
   "execution_count": 23,
   "metadata": {
    "collapsed": false,
    "scrolled": true
   },
   "outputs": [
    {
     "name": "stdout",
     "output_type": "stream",
     "text": [
      "Tabla de frecuencias para: pclass\n",
      "pclass      1    2    3\n",
      "survived               \n",
      "0         103  146  369\n",
      "1         181  115  131\n",
      "\n",
      "Tabla de frecuencias para: sibsp_n2\n",
      "sibsp_n2   n0   n1\n",
      "survived          \n",
      "0         140  478\n",
      "1         147  280\n",
      "\n",
      "Tabla de frecuencias para: parch_n2\n",
      "parch_n2   n0   n1\n",
      "survived          \n",
      "0         112  506\n",
      "1         155  272\n",
      "\n",
      "Tabla de frecuencias para: sex\n",
      "sex       female  male\n",
      "survived              \n",
      "0             96   522\n",
      "1            292   135\n",
      "\n",
      "Tabla de frecuencias para: embarked_n\n",
      "embarked_n    C   n1\n",
      "survived            \n",
      "0            80  538\n",
      "1           132  295\n",
      "\n"
     ]
    }
   ],
   "source": [
    "tabla_frecuencias()  #reviso otra vez las frecuencias despues de la discretización."
   ]
  },
  {
   "cell_type": "markdown",
   "metadata": {},
   "source": [
    "### 2.2 Analisis de las variables continuas.\n",
    "\n",
    "Revisamos el histograma."
   ]
  },
  {
   "cell_type": "code",
   "execution_count": 24,
   "metadata": {
    "collapsed": false,
    "scrolled": true
   },
   "outputs": [
    {
     "data": {
      "text/plain": [
       "array([[<matplotlib.axes._subplots.AxesSubplot object at 0x1135c8350>,\n",
       "        <matplotlib.axes._subplots.AxesSubplot object at 0x1176c70d0>]], dtype=object)"
      ]
     },
     "execution_count": 24,
     "metadata": {},
     "output_type": "execute_result"
    },
    {
     "data": {
      "image/png": "[encoded data removed]",
      "text/plain": [
       "<matplotlib.figure.Figure at 0x1176525d0>"
      ]
     },
     "metadata": {},
     "output_type": "display_data"
    }
   ],
   "source": [
    "titanic_not_null[var_numericas].hist()"
   ]
  },
  {
   "cell_type": "markdown",
   "metadata": {},
   "source": [
    "ahora vemos por supervivencia los datos.\n"
   ]
  },
  {
   "cell_type": "code",
   "execution_count": 25,
   "metadata": {
    "collapsed": false,
    "scrolled": true
   },
   "outputs": [
    {
     "data": {
      "image/png": "[encoded data removed]",
      "text/plain": [
       "<matplotlib.figure.Figure at 0x1176d3410>"
      ]
     },
     "metadata": {},
     "output_type": "display_data"
    }
   ],
   "source": [
    "#Estudiamos la variable age.\n",
    "import matplotlib.pyplot as plt\n",
    "plt.hist(titanic_not_null['age'][var_target == True], bins=10, histtype='bar', color='blue', label='age (survived=True)') \n",
    "plt.hist(titanic_not_null['age'][var_target == False], bins=10, histtype='bar', color='red', label='age (survived=False)', alpha=0.5)\n",
    "plt.title('Histograma: age')\n",
    "plt.legend()\n",
    "plt.show()"
   ]
  },
  {
   "cell_type": "markdown",
   "metadata": {},
   "source": [
    "A partir de este grupo, veo que hay 3 grupos, entre 0 y 15, otro grupo entre 15 y 40 y otro grupo a partir de 40.\n",
    "aunque por el histograma deducimos que el grupo de edad mayoritorio fue entre 15 y 35...y que de los supervivientes, el grupo que mas sobrevivieron en comparacion con el resto fue el de 0 a 15.\n",
    "Voy a discretizar la variable edad.\n"
   ]
  },
  {
   "cell_type": "code",
   "execution_count": 26,
   "metadata": {
    "collapsed": false,
    "scrolled": true
   },
   "outputs": [
    {
     "name": "stdout",
     "output_type": "stream",
     "text": [
      "Obteniendo el Woe para la variable age_n :\n",
      "  El WoE para n0 [ 109 ] es -0.239672853265\n",
      "  El WoE para n1 [ 692 ] es 0.446583355038\n",
      "  El WoE para n2 [ 244 ] es 0.432864082296\n"
     ]
    }
   ],
   "source": [
    "titanic_not_null.loc[:, 'age_n'] = titanic_not_null['age'].map(lambda x: 'n0' if x < 15 else 'n1' if x < 40 else 'n2')\n",
    "get_WoE(titanic_not_null, 'age_n', 'survived') "
   ]
  },
  {
   "cell_type": "code",
   "execution_count": 27,
   "metadata": {
    "collapsed": false,
    "scrolled": true
   },
   "outputs": [],
   "source": [
    "#actualizo las variables de estudio.\n",
    "var_categoricas = ['pclass','sibsp_n2','parch_n2','sex', 'age_n','embarked_n'] #modifico mi lista de variables de estudio.\n",
    "var_numericas   = ['fare']\n"
   ]
  },
  {
   "cell_type": "code",
   "execution_count": 28,
   "metadata": {
    "collapsed": false,
    "scrolled": true
   },
   "outputs": [
    {
     "data": {
      "image/png": "[encoded data removed]",
      "text/plain": [
       "<matplotlib.figure.Figure at 0x117604410>"
      ]
     },
     "metadata": {},
     "output_type": "display_data"
    }
   ],
   "source": [
    "#Estudiamos la variable fare.\n",
    "import matplotlib.pyplot as plt\n",
    "plt.hist(titanic_not_null['fare'][var_target == True], bins=3, histtype='bar', color='blue', label='age (survived=True)') \n",
    "plt.hist(titanic_not_null['fare'][var_target == False], bins=3, histtype='bar', color='red', label='age (survived=False)', alpha=0.5)\n",
    "plt.title('Histograma: age')\n",
    "plt.legend()\n",
    "plt.show()"
   ]
  },
  {
   "cell_type": "markdown",
   "metadata": {},
   "source": [
    "Se ve que existen 3 niveles, uno con precios mas bajos entre 0 y 100. Otro entre 100 y 200 y otro a partir de 200.\n"
   ]
  },
  {
   "cell_type": "code",
   "execution_count": 29,
   "metadata": {
    "collapsed": false,
    "scrolled": true
   },
   "outputs": [
    {
     "name": "stdout",
     "output_type": "stream",
     "text": [
      "Obteniendo el Woe para la variable fare_n :\n",
      "  El WoE para n0 [ 966 ] es 0.476737661427\n",
      "  El WoE para n1 [ 43 ] es -0.949080554697\n",
      "  El WoE para n2 [ 36 ] es -0.955511445027\n"
     ]
    }
   ],
   "source": [
    "titanic_not_null.loc[:, 'fare_n'] = titanic_not_null['fare'].map(lambda x: 'n0' if x < 100 else 'n1' if x < 200 else 'n2')\n",
    "get_WoE(titanic_not_null, 'fare_n', 'survived') "
   ]
  },
  {
   "cell_type": "markdown",
   "metadata": {},
   "source": [
    "Viendo el numero de ocurrencias y el resultado. Voy a agrupar en dos niveles. Uno con los valores positivos y otro con los negativos."
   ]
  },
  {
   "cell_type": "code",
   "execution_count": 30,
   "metadata": {
    "collapsed": false,
    "scrolled": true
   },
   "outputs": [
    {
     "name": "stdout",
     "output_type": "stream",
     "text": [
      "Obteniendo el Woe para la variable fare_n2 :\n",
      "  El WoE para n0 [ 966 ] es 0.476737661427\n",
      "  El WoE para n1 [ 79 ] es -0.952008814476\n"
     ]
    }
   ],
   "source": [
    "titanic_not_null.loc[:, 'fare_n2'] = None\n",
    "titanic_not_null.loc[:, 'fare_n2'] = titanic_not_null['fare_n'].map(lambda x: 'n0' if x == 'n0' else 'n1')\n",
    "\n",
    "get_WoE(titanic_not_null, 'fare_n2', 'survived') "
   ]
  },
  {
   "cell_type": "code",
   "execution_count": 31,
   "metadata": {
    "collapsed": false,
    "scrolled": true
   },
   "outputs": [
    {
     "name": "stdout",
     "output_type": "stream",
     "text": [
      "Tabla de frecuencias para: pclass\n",
      "pclass      1    2    3\n",
      "survived               \n",
      "0         103  146  369\n",
      "1         181  115  131\n",
      "\n",
      "Tabla de frecuencias para: sibsp_n2\n",
      "sibsp_n2   n0   n1\n",
      "survived          \n",
      "0         140  478\n",
      "1         147  280\n",
      "\n",
      "Tabla de frecuencias para: parch_n2\n",
      "parch_n2   n0   n1\n",
      "survived          \n",
      "0         112  506\n",
      "1         155  272\n",
      "\n",
      "Tabla de frecuencias para: sex\n",
      "sex       female  male\n",
      "survived              \n",
      "0             96   522\n",
      "1            292   135\n",
      "\n",
      "Tabla de frecuencias para: age_n\n",
      "age_n     n0   n1   n2\n",
      "survived              \n",
      "0         48  422  148\n",
      "1         61  270   96\n",
      "\n",
      "Tabla de frecuencias para: fare_n2\n",
      "fare_n2    n0  n1\n",
      "survived         \n",
      "0         596  22\n",
      "1         370  57\n",
      "\n",
      "Tabla de frecuencias para: embarked_n\n",
      "embarked_n    C   n1\n",
      "survived            \n",
      "0            80  538\n",
      "1           132  295\n",
      "\n"
     ]
    }
   ],
   "source": [
    "#actualizo las variables de estudio.\n",
    "var_categoricas = ['pclass','sibsp_n2','parch_n2','sex', 'age_n','fare_n2','embarked_n'] #modifico mi lista de variables de estudio.\n",
    "var_numericas   = [] #Ya no tengo variables numericas para el estudio\n",
    "tabla_frecuencias()  #reviso otra vez las frecuencias despues de la discretización."
   ]
  },
  {
   "cell_type": "markdown",
   "metadata": {},
   "source": [
    "### 3. Seleccion de variables.\n",
    "\n",
    "Una vez que hemos discretizado las variables, vamos a estudiar el Informative Value para ver cuales vamos a dejar en el modelo, analizando la capacidad de clasificacion de cada variable.\n"
   ]
  },
  {
   "cell_type": "code",
   "execution_count": 32,
   "metadata": {
    "collapsed": false,
    "scrolled": true
   },
   "outputs": [
    {
     "name": "stdout",
     "output_type": "stream",
     "text": [
      "La variable pclass el IV es 0.67613129015\n",
      "La variable sibsp_n2 el IV es 0.140892620898\n",
      "La variable parch_n2 el IV es 0.239028042454\n",
      "La variable sex el IV es 1.35855179749\n",
      "La variable age_n el IV es 0.218928011875\n",
      "La variable fare_n2 el IV es 0.533310955061\n",
      "La variable embarked_n el IV es 0.298119331691\n"
     ]
    }
   ],
   "source": [
    "    from sklearn.linear_model.logistic import LogisticRegression\n",
    "\n",
    "    result_IV = []\n",
    "\n",
    "    for v_cat in var_categoricas:\n",
    "        var_target = array(var_target)\n",
    "        var_values = array(titanic_not_null[v_cat])\n",
    "        var_levels = unique(var_values)\n",
    "\n",
    "        mat_values = numpy.zeros(shape=(len(var_levels),2))\n",
    "\n",
    "        for i in range(len(var_target)):\n",
    "            # Obtención de la posición en los niveles del valor\n",
    "            for j in range(len(var_levels)):\n",
    "                if var_levels[j] == var_values[i]:\n",
    "                    pos = j\n",
    "                    break\n",
    "\n",
    "            # Estimación del número valores en cada nivel\n",
    "            if var_target[i]:\n",
    "                mat_values[pos][0] += 1\n",
    "            else:\n",
    "                mat_values[pos][1] += 1\n",
    "\n",
    "            # Obtención del IV\n",
    "            IV = 0\n",
    "            for j in range(len(var_levels)):\n",
    "                if mat_values[j][0] > 0 and mat_values[j][1] > 0:\n",
    "                    rt = mat_values[j][0] / (mat_values[j][0] + mat_values[j][1])\n",
    "                    rf = mat_values[j][1] / (mat_values[j][0] + mat_values[j][1])\n",
    "                    IV += (rt - rf) * np.log(rt / rf)\n",
    "\n",
    "        # Se agrega el IV al listado\n",
    "        result_IV.append(IV)\n",
    "\n",
    "    for i in range(len(var_categoricas)):\n",
    "        print \"La variable\", var_categoricas[i], \"el IV es\", result_IV[i]"
   ]
  },
  {
   "cell_type": "markdown",
   "metadata": {
    "collapsed": true
   },
   "source": [
    "Las variables que tienen poder de clasificacion fuerte son aquellas que tienen un valor por encima de 0.3, y las que tienen valores por encima de 0.5 son las que tienen un poder muy fuerte. \n",
    "\n",
    "Por tanto para realizar el modelo vamos a escoger : **pclass, sex y fare_n2 **"
   ]
  },
  {
   "cell_type": "code",
   "execution_count": 33,
   "metadata": {
    "collapsed": false,
    "scrolled": true
   },
   "outputs": [],
   "source": [
    "var_categoricas = ['pclass','sex', 'fare_n2' ] #actualizo mi lista de variables de estudio.\n"
   ]
  },
  {
   "cell_type": "markdown",
   "metadata": {},
   "source": [
    "### 3.1 Generamos dummies"
   ]
  },
  {
   "cell_type": "code",
   "execution_count": 34,
   "metadata": {
    "collapsed": false,
    "scrolled": true
   },
   "outputs": [
    {
     "name": "stdout",
     "output_type": "stream",
     "text": [
      "** pclass\n",
      "Precisión: 0.666028708134\n",
      "Exactitud: 0.423887587822\n",
      "Exhaustividad: 0.637323943662\n",
      "** sex\n",
      "Precisión: 0.778947368421\n",
      "Exactitud: 0.683840749415\n",
      "Exhaustividad: 0.752577319588\n",
      "** fare_n2\n",
      "Precisión: 0.624880382775\n",
      "Exactitud: 0.133489461358\n",
      "Exhaustividad: 0.721518987342\n"
     ]
    }
   ],
   "source": [
    "#vamos a ver que aportan las variables para la predicción del modelo.\n",
    "\n",
    "from sklearn.metrics import accuracy_score, auc, confusion_matrix, f1_score, precision_score, recall_score, roc_curve\n",
    "\n",
    "for v_cat in var_categoricas:\n",
    "    dum_var    = pd.get_dummies(titanic_not_null[v_cat])\n",
    "    features   = list(dum_var.columns)\n",
    "    features.remove(features[1])\n",
    "    classifier = LogisticRegression().fit(dum_var, var_target)\n",
    "    y_pred     = classifier.predict(dum_var)\n",
    "    \n",
    "    print \"**\", v_cat\n",
    "    print 'Precisión:', accuracy_score(y_pred, var_target)\n",
    "    print 'Exactitud:', precision_score(y_pred, var_target)\n",
    "    print 'Exhaustividad:', recall_score(y_pred, var_target)"
   ]
  },
  {
   "cell_type": "markdown",
   "metadata": {},
   "source": [
    "Las variables que tenemos son buenas a la hora de realizar la clasificación. \n",
    "Todas tienen una precision ( porcentaje de aciertos en positivos y negativos) por encima del 50%, siendo la de sexo la mejor.\n",
    "La exactitud, que es el % de positivos que han acertado, en fare encontramos un  valor muy bajo..\n",
    "Sin embargo en exhaustividad, que el % de positivos en el total de positivos, en las 3 tenemos valores muy buenos.\n",
    "Pero sin duda, la mejor variable para predecir el modelo es la de sexo."
   ]
  },
  {
   "cell_type": "code",
   "execution_count": 35,
   "metadata": {
    "collapsed": true,
    "scrolled": true
   },
   "outputs": [],
   "source": [
    "titanic_copi = titanic_not_null.copy(deep = True) #hacemos una copia de los datos, para no perderlos.\n",
    "#titanic_not_null=titanic_copi"
   ]
  },
  {
   "cell_type": "code",
   "execution_count": 36,
   "metadata": {
    "collapsed": false,
    "scrolled": true
   },
   "outputs": [
    {
     "data": {
      "text/html": [
       "<div>\n",
       "<table border=\"1\" class=\"dataframe\">\n",
       "  <thead>\n",
       "    <tr style=\"text-align: right;\">\n",
       "      <th></th>\n",
       "      <th>survived</th>\n",
       "      <th>age</th>\n",
       "      <th>sibsp</th>\n",
       "      <th>parch</th>\n",
       "      <th>fare</th>\n",
       "      <th>body</th>\n",
       "      <th>pclass_2</th>\n",
       "      <th>pclass_3</th>\n",
       "      <th>sex_male</th>\n",
       "      <th>fare_n2_n1</th>\n",
       "    </tr>\n",
       "  </thead>\n",
       "  <tbody>\n",
       "    <tr>\n",
       "      <th>count</th>\n",
       "      <td>1045.000000</td>\n",
       "      <td>1045.000000</td>\n",
       "      <td>1045.000000</td>\n",
       "      <td>1045.000000</td>\n",
       "      <td>1045.000000</td>\n",
       "      <td>119.000000</td>\n",
       "      <td>1045.000000</td>\n",
       "      <td>1045.000000</td>\n",
       "      <td>1045.000000</td>\n",
       "      <td>1045.000000</td>\n",
       "    </tr>\n",
       "    <tr>\n",
       "      <th>mean</th>\n",
       "      <td>0.408612</td>\n",
       "      <td>29.851837</td>\n",
       "      <td>0.503349</td>\n",
       "      <td>0.421053</td>\n",
       "      <td>36.686080</td>\n",
       "      <td>160.033613</td>\n",
       "      <td>0.249761</td>\n",
       "      <td>0.478469</td>\n",
       "      <td>0.628708</td>\n",
       "      <td>0.075598</td>\n",
       "    </tr>\n",
       "    <tr>\n",
       "      <th>std</th>\n",
       "      <td>0.491813</td>\n",
       "      <td>14.389194</td>\n",
       "      <td>0.912471</td>\n",
       "      <td>0.840052</td>\n",
       "      <td>55.732533</td>\n",
       "      <td>98.082975</td>\n",
       "      <td>0.433082</td>\n",
       "      <td>0.499775</td>\n",
       "      <td>0.483382</td>\n",
       "      <td>0.264481</td>\n",
       "    </tr>\n",
       "    <tr>\n",
       "      <th>min</th>\n",
       "      <td>0.000000</td>\n",
       "      <td>0.170000</td>\n",
       "      <td>0.000000</td>\n",
       "      <td>0.000000</td>\n",
       "      <td>0.000000</td>\n",
       "      <td>1.000000</td>\n",
       "      <td>0.000000</td>\n",
       "      <td>0.000000</td>\n",
       "      <td>0.000000</td>\n",
       "      <td>0.000000</td>\n",
       "    </tr>\n",
       "    <tr>\n",
       "      <th>25%</th>\n",
       "      <td>0.000000</td>\n",
       "      <td>21.000000</td>\n",
       "      <td>0.000000</td>\n",
       "      <td>0.000000</td>\n",
       "      <td>8.050000</td>\n",
       "      <td>71.000000</td>\n",
       "      <td>0.000000</td>\n",
       "      <td>0.000000</td>\n",
       "      <td>0.000000</td>\n",
       "      <td>0.000000</td>\n",
       "    </tr>\n",
       "    <tr>\n",
       "      <th>50%</th>\n",
       "      <td>0.000000</td>\n",
       "      <td>28.000000</td>\n",
       "      <td>0.000000</td>\n",
       "      <td>0.000000</td>\n",
       "      <td>15.750000</td>\n",
       "      <td>155.000000</td>\n",
       "      <td>0.000000</td>\n",
       "      <td>0.000000</td>\n",
       "      <td>1.000000</td>\n",
       "      <td>0.000000</td>\n",
       "    </tr>\n",
       "    <tr>\n",
       "      <th>75%</th>\n",
       "      <td>1.000000</td>\n",
       "      <td>39.000000</td>\n",
       "      <td>1.000000</td>\n",
       "      <td>1.000000</td>\n",
       "      <td>35.500000</td>\n",
       "      <td>255.500000</td>\n",
       "      <td>0.000000</td>\n",
       "      <td>1.000000</td>\n",
       "      <td>1.000000</td>\n",
       "      <td>0.000000</td>\n",
       "    </tr>\n",
       "    <tr>\n",
       "      <th>max</th>\n",
       "      <td>1.000000</td>\n",
       "      <td>80.000000</td>\n",
       "      <td>8.000000</td>\n",
       "      <td>6.000000</td>\n",
       "      <td>512.329200</td>\n",
       "      <td>328.000000</td>\n",
       "      <td>1.000000</td>\n",
       "      <td>1.000000</td>\n",
       "      <td>1.000000</td>\n",
       "      <td>1.000000</td>\n",
       "    </tr>\n",
       "  </tbody>\n",
       "</table>\n",
       "</div>"
      ],
      "text/plain": [
       "          survived          age        sibsp        parch         fare  \\\n",
       "count  1045.000000  1045.000000  1045.000000  1045.000000  1045.000000   \n",
       "mean      0.408612    29.851837     0.503349     0.421053    36.686080   \n",
       "std       0.491813    14.389194     0.912471     0.840052    55.732533   \n",
       "min       0.000000     0.170000     0.000000     0.000000     0.000000   \n",
       "25%       0.000000    21.000000     0.000000     0.000000     8.050000   \n",
       "50%       0.000000    28.000000     0.000000     0.000000    15.750000   \n",
       "75%       1.000000    39.000000     1.000000     1.000000    35.500000   \n",
       "max       1.000000    80.000000     8.000000     6.000000   512.329200   \n",
       "\n",
       "             body     pclass_2     pclass_3     sex_male   fare_n2_n1  \n",
       "count  119.000000  1045.000000  1045.000000  1045.000000  1045.000000  \n",
       "mean   160.033613     0.249761     0.478469     0.628708     0.075598  \n",
       "std     98.082975     0.433082     0.499775     0.483382     0.264481  \n",
       "min      1.000000     0.000000     0.000000     0.000000     0.000000  \n",
       "25%     71.000000     0.000000     0.000000     0.000000     0.000000  \n",
       "50%    155.000000     0.000000     0.000000     1.000000     0.000000  \n",
       "75%    255.500000     0.000000     1.000000     1.000000     0.000000  \n",
       "max    328.000000     1.000000     1.000000     1.000000     1.000000  "
      ]
     },
     "execution_count": 36,
     "metadata": {},
     "output_type": "execute_result"
    }
   ],
   "source": [
    "\n",
    "for column in var_categoricas:\n",
    "    dummie = pd.get_dummies(titanic_not_null[column], prefix = column)\n",
    "    names = list(dummie.columns)\n",
    "    names.remove(names[0])\n",
    "    titanic_not_null = pd.concat([titanic_not_null, dummie[names]], axis = 1)\n",
    "    names = list(titanic_not_null.columns)\n",
    "    names.remove(column)\n",
    "    titanic_not_null = titanic_not_null[names]\n",
    "    \n",
    "titanic_not_null.describe()"
   ]
  },
  {
   "cell_type": "markdown",
   "metadata": {},
   "source": [
    "### 3.2 Estudio de colinealidad."
   ]
  },
  {
   "cell_type": "markdown",
   "metadata": {},
   "source": [
    "De las variables que tenemos, vamos a ver si alguna es colineal y por tanto podemos quitarlas del modelo."
   ]
  },
  {
   "cell_type": "code",
   "execution_count": 37,
   "metadata": {
    "collapsed": false,
    "scrolled": true
   },
   "outputs": [],
   "source": [
    "from sklearn.linear_model import LinearRegression\n",
    "\n",
    "def calculateVIF(data):\n",
    "    features = list(data.columns)\n",
    "    num_features = len(features)\n",
    "    \n",
    "    model = LinearRegression()\n",
    "    \n",
    "    result = pd.DataFrame(index = ['VIF'], columns = features)\n",
    "    result = result.fillna(0)\n",
    "    \n",
    "    for ite in range(num_features):\n",
    "        x_features = features[:]\n",
    "        y_featue = features[ite]\n",
    "        x_features.remove(y_featue)\n",
    "        \n",
    "        x = data[x_features]\n",
    "        y = data[y_featue]\n",
    "        \n",
    "        model.fit(data[x_features], data[y_featue])\n",
    "        \n",
    "        result[y_featue] = 1/(1 - model.score(data[x_features], data[y_featue]))\n",
    "    \n",
    "    return result\n",
    "\n",
    "def selectDataUsingVIF(data, max_VIF = 5):\n",
    "    result = data.copy(deep = True)\n",
    "    \n",
    "    VIF = calculateVIF(result)\n",
    "    \n",
    "    while VIF.as_matrix().max() > max_VIF:\n",
    "        col_max = np.where(VIF == VIF.as_matrix().max())[1][0]\n",
    "        features = list(result.columns)\n",
    "        features.remove(features[col_max])\n",
    "        result = result[features]\n",
    "        \n",
    "        VIF = calculateVIF(result)\n",
    "        \n",
    "    return result"
   ]
  },
  {
   "cell_type": "code",
   "execution_count": 38,
   "metadata": {
    "collapsed": false,
    "scrolled": true
   },
   "outputs": [
    {
     "data": {
      "text/html": [
       "<div>\n",
       "<table border=\"1\" class=\"dataframe\">\n",
       "  <thead>\n",
       "    <tr style=\"text-align: right;\">\n",
       "      <th></th>\n",
       "      <th>pclass_2</th>\n",
       "      <th>pclass_3</th>\n",
       "      <th>sex_male</th>\n",
       "      <th>fare_n2_n1</th>\n",
       "    </tr>\n",
       "  </thead>\n",
       "  <tbody>\n",
       "    <tr>\n",
       "      <th>VIF</th>\n",
       "      <td>1.705509</td>\n",
       "      <td>1.804808</td>\n",
       "      <td>1.034103</td>\n",
       "      <td>1.296733</td>\n",
       "    </tr>\n",
       "  </tbody>\n",
       "</table>\n",
       "</div>"
      ],
      "text/plain": [
       "     pclass_2  pclass_3  sex_male  fare_n2_n1\n",
       "VIF  1.705509  1.804808  1.034103    1.296733"
      ]
     },
     "execution_count": 38,
     "metadata": {},
     "output_type": "execute_result"
    }
   ],
   "source": [
    "#print titanic_not_null.describe()\n",
    "var_categoricas = ['pclass_2','pclass_3','sex_male', 'fare_n2_n1' ] #actualizo mi lista de variables de estudio\n",
    "calculateVIF(titanic_not_null[var_categoricas])"
   ]
  },
  {
   "cell_type": "markdown",
   "metadata": {},
   "source": [
    "Las variables tienen unos valores muy bajos, ninguna con valores superiores a 5. Con lo que no vamos a quitar ninguna variable del modelo."
   ]
  },
  {
   "cell_type": "markdown",
   "metadata": {},
   "source": [
    "## 4. Creación de una muestra de entrenamiento y validación\n"
   ]
  },
  {
   "cell_type": "code",
   "execution_count": 39,
   "metadata": {
    "collapsed": false,
    "scrolled": true
   },
   "outputs": [
    {
     "name": "stdout",
     "output_type": "stream",
     "text": [
      "(1045, 23) xtrain: (783, 4) xtest (262, 4)\n"
     ]
    }
   ],
   "source": [
    "from sklearn.cross_validation import train_test_split\n",
    "x_train, x_test, y_train, y_test = train_test_split(titanic_not_null[var_categoricas], titanic_not_null['survived'])\n",
    "print titanic_not_null.shape,\"xtrain:\",  x_train.shape, \"xtest\", x_test.shape\n",
    "\n"
   ]
  },
  {
   "cell_type": "markdown",
   "metadata": {},
   "source": [
    "## 5.  Analizando variables en el modelo."
   ]
  },
  {
   "cell_type": "code",
   "execution_count": 40,
   "metadata": {
    "collapsed": false,
    "scrolled": true
   },
   "outputs": [
    {
     "name": "stdout",
     "output_type": "stream",
     "text": [
      "Paso 1 variable sex_male con RMS 0.411479740409\n",
      "Paso 2 variable pclass_3 con RMS 0.402703223461\n",
      "Paso 3 variable pclass_2 con RMS 0.401278079379\n",
      "(['sex_male', 'pclass_3', 'pclass_2'], [0.41147974040887064, 0.40270322346122273, 0.40127807937861942], ['sex_male', 'pclass_3', 'pclass_2'])\n",
      "Inicio - tratando  [0, 1, 2, 3] - error : 0.384096718771\n",
      "Paso  0 - tratando  [0, 1, 2] - error : 0.384032498883\n",
      "(Index([u'pclass_2', u'pclass_3', u'sex_male'], dtype='object'), 0.38403249888322399)\n"
     ]
    }
   ],
   "source": [
    "def forward_regression(x,y):\n",
    "    # Obtencion del conjunto de datos para validación\n",
    "    x_train, x_test, y_train, y_test = train_test_split(x, y)\n",
    "\n",
    "    # Modelo para realizar los ajustes\n",
    "    model = LinearRegression()\n",
    "\n",
    "    # Variable para almecena los índices de la lista de atributos usados\n",
    "    feature_list = list(x.columns)\n",
    "    feature_order = []\n",
    "    feature_error = []\n",
    "    feature_names = []\n",
    "\n",
    "    # Iteración sobre todas las variables\n",
    "    for i in range(len(feature_list)):\n",
    "         \n",
    "        idx_try = [val for val in range(len(feature_list)) if val not in feature_order]\n",
    "        iter_error = []\n",
    "\n",
    "        #print \"idx_try \", idx_try, \"feature_order\" , feature_order\n",
    "        \n",
    "        for i_try in idx_try:\n",
    "            useRow = feature_order[:]\n",
    "            useRow.append(i_try)\n",
    "    \n",
    "            use_train = x_train[x_train.columns[useRow]]\n",
    "            use_test = x_test[x_train.columns[useRow]]\n",
    "\n",
    "\n",
    "            model.fit(use_train, y_train)\n",
    "            rmsError = numpy.linalg.norm((y_test - model.predict(use_test)), 2)/sqrt(len(y_test))\n",
    "            iter_error.append(rmsError)\n",
    "\n",
    "        pos_best = numpy.argmin(iter_error)\n",
    "        \n",
    "        #el criterio de parada si el error aumenta nos salimos,\n",
    "        if len(feature_error) == 0 or (iter_error[pos_best] < feature_error[-1]):\n",
    "            feature_order.append(idx_try[pos_best])\n",
    "            feature_error.append(iter_error[pos_best])\n",
    "            feature_names.append(feature_list[idx_try[pos_best]])\n",
    "            print \"Paso\", len(feature_error), \"variable\", feature_list[idx_try[pos_best]], \"con RMS\", iter_error[pos_best]\n",
    "        else:\n",
    "            return feature_names, feature_error, feature_names\n",
    "\n",
    "    return feature_names, feature_order, feature_error\n",
    "\n",
    "var_categoricas = ['pclass_2','pclass_3','sex_male', 'fare_n2_n1' ] #actualizo mi lista de variables de estudio\n",
    "\n",
    "x=titanic_not_null[var_categoricas]\n",
    "y=titanic_not_null['survived']\n",
    "print forward_regression(x,y)\n",
    "\n",
    "x=titanic_not_null[var_categoricas]\n",
    "y=titanic_not_null['survived']\n",
    "print Backward_regression(x, y)   #miro tambien que devuelve mi funcion.\n"
   ]
  },
  {
   "cell_type": "markdown",
   "metadata": {},
   "source": [
    "Variables a incluir en el modelo:\n",
    " ['sex_male', 'pclass_3', 'pclass_2']\n",
    "\n",
    "\n"
   ]
  },
  {
   "cell_type": "markdown",
   "metadata": {},
   "source": [
    "### 6. Ejecucion del modelo.\n",
    "\n"
   ]
  },
  {
   "cell_type": "code",
   "execution_count": 41,
   "metadata": {
    "collapsed": false,
    "scrolled": true
   },
   "outputs": [],
   "source": [
    "from sklearn.metrics import accuracy_score, auc, confusion_matrix, f1_score, precision_score, recall_score, roc_curve\n",
    "\n",
    "def metricas_modelos(y_true, y_pred):\n",
    "    from sklearn.metrics import accuracy_score, auc, confusion_matrix, f1_score, precision_score, recall_score, roc_curve\n",
    "\n",
    "    # Obtención de matriz de confusión\n",
    "    confusion_matrix = confusion_matrix(y_true, y_pred)\n",
    "\n",
    "    print \"La matriz de confusión es \"\n",
    "    print confusion_matrix\n",
    "\n",
    "    print 'Precisión:', accuracy_score(y_true, y_pred) #ha acertado un 68 % de los casos.\n",
    "    print 'Exactitud:', precision_score(y_true, y_pred) #% son verdad de los que he marcado.\n",
    "    print 'Exhaustividad:', recall_score(y_true, y_pred) #% que he detectado como verdad sobre el total de los que son verdad.\n",
    "    print 'F1:', f1_score(y_true, y_pred)\n",
    "\n",
    "    false_positive_rate, recall, thresholds = roc_curve(y_true, y_pred)\n",
    "    roc_auc = auc(false_positive_rate, recall)\n",
    "\n",
    "    print 'AUC:', auc(false_positive_rate, recall)\n",
    "\n",
    "    plot(false_positive_rate, recall, 'b')\n",
    "    plot([0, 1], [0, 1], 'r--')\n",
    "    title('AUC = %0.2f' % roc_auc)"
   ]
  },
  {
   "cell_type": "markdown",
   "metadata": {},
   "source": [
    "### 6.1 Regresion Logistica."
   ]
  },
  {
   "cell_type": "code",
   "execution_count": 42,
   "metadata": {
    "collapsed": true,
    "scrolled": true
   },
   "outputs": [],
   "source": [
    "from sklearn.cross_validation import train_test_split\n",
    "var_categoricas=['pclass_2', 'pclass_3', 'sex_male']\n",
    "x_train, x_test, y_train, y_test = train_test_split(titanic_not_null[var_categoricas], titanic_not_null['survived'])\n"
   ]
  },
  {
   "cell_type": "code",
   "execution_count": 43,
   "metadata": {
    "collapsed": false,
    "scrolled": true
   },
   "outputs": [
    {
     "name": "stdout",
     "output_type": "stream",
     "text": [
      "La matriz de confusión es \n",
      "[[399  66]\n",
      " [103 215]]\n",
      "Precisión: 0.784163473819\n",
      "Exactitud: 0.76512455516\n",
      "Exhaustividad: 0.676100628931\n",
      "F1: 0.717863105175\n",
      "AUC: 0.76708257253\n"
     ]
    },
    {
     "data": {
      "image/png": "[encoded data removed]",
      "text/plain": [
       "<matplotlib.figure.Figure at 0x11a02bc10>"
      ]
     },
     "metadata": {},
     "output_type": "display_data"
    }
   ],
   "source": [
    "\n",
    "from sklearn.linear_model.logistic import LogisticRegression\n",
    "\n",
    "classifier = LogisticRegression().fit(x_train, y_train)\n",
    "y_pred     = classifier.predict(x_train)\n",
    "\n",
    "metricas_modelos(y_train, y_pred)"
   ]
  },
  {
   "cell_type": "code",
   "execution_count": 44,
   "metadata": {
    "collapsed": false,
    "scrolled": true
   },
   "outputs": [
    {
     "name": "stdout",
     "output_type": "stream",
     "text": [
      "La matriz de confusión es \n",
      "[[123  30]\n",
      " [ 32  77]]\n",
      "Precisión: 0.763358778626\n",
      "Exactitud: 0.719626168224\n",
      "Exhaustividad: 0.706422018349\n",
      "F1: 0.712962962963\n",
      "AUC: 0.755171793488\n"
     ]
    },
    {
     "data": {
      "image/png": "[encoded data removed]",
      "text/plain": [
       "<matplotlib.figure.Figure at 0x11a329c50>"
      ]
     },
     "metadata": {},
     "output_type": "display_data"
    }
   ],
   "source": [
    "y_pred     = classifier.predict(x_test)\n",
    "metricas_modelos(y_test, y_pred)"
   ]
  },
  {
   "cell_type": "markdown",
   "metadata": {},
   "source": [
    ">El modelo de los datos de test es unas decimas mejor.\n"
   ]
  },
  {
   "cell_type": "code",
   "execution_count": 45,
   "metadata": {
    "collapsed": false,
    "scrolled": true
   },
   "outputs": [
    {
     "name": "stdout",
     "output_type": "stream",
     "text": [
      "R2 en entrenamiento es:  0.784163473819\n",
      "R2 en validación es:  0.763358778626\n"
     ]
    }
   ],
   "source": [
    "print 'R2 en entrenamiento es: ', classifier.score(x_train, y_train)\n",
    "print 'R2 en validación es: ', classifier.score(x_test, y_test)\n",
    "\n"
   ]
  },
  {
   "cell_type": "code",
   "execution_count": 46,
   "metadata": {
    "collapsed": false,
    "scrolled": false
   },
   "outputs": [
    {
     "data": {
      "image/png": "[encoded data removed]",
      "text/plain": [
       "<matplotlib.figure.Figure at 0x11a335b10>"
      ]
     },
     "metadata": {},
     "output_type": "display_data"
    }
   ],
   "source": [
    "\n",
    "cm = confusion_matrix(y_test, y_pred) #SE INTRODUCEN LOS VALORES DE Y VERDADEROS, Y LOS PREDICHOS.\n",
    "plt.matshow(cm)\n",
    "plt.title('Confusion matrix')\n",
    "plt.colorbar()\n",
    "plt.ylabel('Real')\n",
    "plt.xlabel('Predicted')\n",
    "plt.show()"
   ]
  },
  {
   "cell_type": "markdown",
   "metadata": {},
   "source": [
    "\n",
    "En la matriz de confusion se puede ver que muchos mas aciertos, tanto de verdaderos positivos, como de verdaderos negativos.\n",
    "\n",
    "\n"
   ]
  },
  {
   "cell_type": "code",
   "execution_count": 47,
   "metadata": {
    "collapsed": false,
    "scrolled": true
   },
   "outputs": [
    {
     "data": {
      "text/plain": [
       "array([[-0.94126346, -1.48229261, -2.44199167]])"
      ]
     },
     "execution_count": 47,
     "metadata": {},
     "output_type": "execute_result"
    }
   ],
   "source": [
    "classifier.coef_"
   ]
  },
  {
   "cell_type": "markdown",
   "metadata": {},
   "source": [
    "Para comprobar si el modelo esta sobreajustado hacemos una validacion cruzada."
   ]
  },
  {
   "cell_type": "code",
   "execution_count": 48,
   "metadata": {
    "collapsed": false
   },
   "outputs": [
    {
     "name": "stdout",
     "output_type": "stream",
     "text": [
      "La media de los R2 es: 0.583297667245\n",
      "Los R2 son:  [ 0.5047619   0.28571429  0.78947368  0.74519231  0.59134615]\n"
     ]
    }
   ],
   "source": [
    "from sklearn.cross_validation import cross_val_score\n",
    "\n",
    "scores = cross_val_score(classifier, titanic_not_null[var_categoricas], titanic_not_null['survived'], cv = 5) \n",
    "print 'La media de los R2 es:', scores.mean()\n",
    "print 'Los R2 son: ', scores"
   ]
  },
  {
   "cell_type": "markdown",
   "metadata": {},
   "source": [
    "**el modelo sobreajusta.**\n"
   ]
  },
  {
   "cell_type": "markdown",
   "metadata": {},
   "source": [
    "Vamos a probar eliminando una de las variables.\n"
   ]
  },
  {
   "cell_type": "code",
   "execution_count": 49,
   "metadata": {
    "collapsed": false
   },
   "outputs": [
    {
     "name": "stdout",
     "output_type": "stream",
     "text": [
      "La matriz de confusión es \n",
      "[[387  72]\n",
      " [ 99 225]]\n",
      "Precisión: 0.781609195402\n",
      "Exactitud: 0.757575757576\n",
      "Exhaustividad: 0.694444444444\n",
      "F1: 0.724637681159\n",
      "AUC: 0.768790849673\n",
      "La matriz de confusión es \n",
      "[[135  24]\n",
      " [ 36  67]]\n",
      "Precisión: 0.770992366412\n",
      "Exactitud: 0.736263736264\n",
      "Exhaustividad: 0.650485436893\n",
      "F1: 0.690721649485\n",
      "AUC: 0.749771020333\n",
      "R2 en entrenamiento es:  0.781609195402\n",
      "R2 en validación es:  0.770992366412\n",
      "La media de los R2 es: 0.76139290534\n",
      "Los R2 son:  [ 0.84761905  0.83333333  0.78947368  0.74519231  0.59134615]\n"
     ]
    },
    {
     "data": {
      "image/png": "[encoded data removed]",
      "text/plain": [
       "<matplotlib.figure.Figure at 0x11a646310>"
      ]
     },
     "metadata": {},
     "output_type": "display_data"
    }
   ],
   "source": [
    "var_categoricas=var_categoricas=[ 'pclass_3','sex_male']\n",
    "\n",
    "x_train, x_test, y_train, y_test = train_test_split(titanic_not_null[var_categoricas], titanic_not_null['survived'])\n",
    "\n",
    "from sklearn.linear_model.logistic import LogisticRegression\n",
    "\n",
    "classifier = LogisticRegression().fit(x_train, y_train)\n",
    "y_pred     = classifier.predict(x_train)\n",
    "\n",
    "metricas_modelos(y_train, y_pred)\n",
    "y_pred     = classifier.predict(x_test)\n",
    "metricas_modelos(y_test, y_pred)\n",
    "\n",
    "print 'R2 en entrenamiento es: ', classifier.score(x_train, y_train)\n",
    "print 'R2 en validación es: ', classifier.score(x_test, y_test)\n",
    "\n",
    "scores = cross_val_score(classifier, titanic_not_null[var_categoricas], titanic_not_null['survived'], cv = 5) \n",
    "print 'La media de los R2 es:', scores.mean()\n",
    "print 'Los R2 son: ', scores"
   ]
  },
  {
   "cell_type": "markdown",
   "metadata": {
    "collapsed": false
   },
   "source": [
    "Este modelo esta mejor que el anterior.\n",
    "\n"
   ]
  },
  {
   "cell_type": "code",
   "execution_count": 50,
   "metadata": {
    "collapsed": false
   },
   "outputs": [
    {
     "data": {
      "text/plain": [
       "array([[-1.35705527, -2.45454434]])"
      ]
     },
     "execution_count": 50,
     "metadata": {},
     "output_type": "execute_result"
    }
   ],
   "source": [
    "classifier.coef_"
   ]
  },
  {
   "cell_type": "markdown",
   "metadata": {},
   "source": [
    ">> ** Con lo que la supervivencia del titanic, dependió del sexo y de si viajaban en tercera o no.**"
   ]
  },
  {
   "cell_type": "markdown",
   "metadata": {
    "collapsed": true
   },
   "source": [
    "** Vamos a ver graficamente la importancia que tenia el sexo y la clase para supervivir en el titanic. **\n"
   ]
  },
  {
   "cell_type": "code",
   "execution_count": 51,
   "metadata": {
    "collapsed": false
   },
   "outputs": [
    {
     "data": {
      "text/plain": [
       "<matplotlib.axes._subplots.AxesSubplot at 0x11a665690>"
      ]
     },
     "execution_count": 51,
     "metadata": {},
     "output_type": "execute_result"
    },
    {
     "data": {
      "image/png": "[encoded data removed]",
      "text/plain": [
       "<matplotlib.figure.Figure at 0x11a665710>"
      ]
     },
     "metadata": {},
     "output_type": "display_data"
    }
   ],
   "source": [
    "import matplotlib.pyplot as plt\n",
    "\n",
    "graf = pd.crosstab([titanic_copi.survived.astype(bool), titanic_copi.sex], titanic_copi.pclass)\n",
    "graf.plot(kind='bar', stacked=True, color=['red','blue','green'], grid=False)"
   ]
  },
  {
   "cell_type": "markdown",
   "metadata": {},
   "source": [
    "Graficamente se ve que los que los hombres de 3 clase son los que mayoritariamente murieron.\n",
    "Las mujeres de tercera clase tambien murieron en mayor medida que las de segunda y primera."
   ]
  },
  {
   "cell_type": "code",
   "execution_count": null,
   "metadata": {
    "collapsed": true
   },
   "outputs": [],
   "source": []
  }
 ],
 "metadata": {
  "kernelspec": {
   "display_name": "Python 2",
   "language": "python",
   "name": "python2"
  },
  "language_info": {
   "codemirror_mode": {
    "name": "ipython",
    "version": 2
   },
   "file_extension": ".py",
   "mimetype": "text/x-python",
   "name": "python",
   "nbconvert_exporter": "python",
   "pygments_lexer": "ipython2",
   "version": "2.7.12"
  }
 },
 "nbformat": 4,
 "nbformat_minor": 0
}
